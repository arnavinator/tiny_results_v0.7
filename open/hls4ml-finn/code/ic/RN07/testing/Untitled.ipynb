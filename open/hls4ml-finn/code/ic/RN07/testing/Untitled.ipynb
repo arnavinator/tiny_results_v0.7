{
 "cells": [
  {
   "cell_type": "code",
   "execution_count": 22,
   "id": "5abf8751",
   "metadata": {},
   "outputs": [],
   "source": [
    "import os\n",
    "import tensorflow as tf\n",
    "from tensorflow import keras\n",
    "import qkeras\n",
    "import numpy as np\n",
    "import tensorflow as tf\n",
    "from tensorflow.keras.datasets import cifar10\n",
    "from tensorflow.keras.models import Model\n",
    "from tensorflow.keras.layers import Input, Dense, Activation, Flatten, BatchNormalization\n",
    "from tensorflow.keras.layers import Conv2D, AveragePooling2D, MaxPooling2D, Add\n",
    "from tensorflow.keras.regularizers import l1_l2\n",
    "from qkeras.qlayers import QDense, QActivation\n",
    "from qkeras.qconvolutional import QConv2D\n",
    "from qkeras.qconv2d_batchnorm import QConv2DBatchnorm\n",
    "from qkeras.qpooling import QAveragePooling2D\n",
    "from tensorflow.keras.models import load_model\n",
    "from qkeras.utils import _add_supported_quantized_objects\n",
    "from sklearn.metrics import roc_auc_score\n",
    "from sklearn.metrics import accuracy_score\n",
    "import cv2\n",
    "import matplotlib.pyplot as plt\n",
    "\n",
    "\n",
    "# UPLOAD MODEL\n",
    "# path to model relative to downsample_tb.py\n",
    "model_file_path = os.path.join(\"../training/trained_model\", \"model_best.h5\")\n",
    "co = {}\n",
    "_add_supported_quantized_objects(co)\n",
    "model = keras.models.load_model(model_file_path, custom_objects = co)"
   ]
  },
  {
   "cell_type": "code",
   "execution_count": 23,
   "id": "94624333",
   "metadata": {},
   "outputs": [],
   "source": [
    "def load_images_from_folder(folder):\n",
    "    images = []\n",
    "    for filename in os.listdir(folder):\n",
    "        print(filename)   # use this to create y_dtest!!!!\n",
    "        img = cv2.imread(os.path.join(folder,filename))\n",
    "        if img is not None:\n",
    "            images.append(img)\n",
    "    return np.array(images)"
   ]
  },
  {
   "cell_type": "code",
   "execution_count": 52,
   "id": "754126f3",
   "metadata": {},
   "outputs": [],
   "source": [
    "img = cv2.imread(\"./new_imgs/cat.jpg\")"
   ]
  },
  {
   "cell_type": "code",
   "execution_count": 53,
   "id": "7f512f07",
   "metadata": {},
   "outputs": [
    {
     "data": {
      "text/plain": [
       "<matplotlib.image.AxesImage at 0x7fbab6a09910>"
      ]
     },
     "execution_count": 53,
     "metadata": {},
     "output_type": "execute_result"
    },
    {
     "data": {
      "image/png": "[encoded data removed]",
      "text/plain": [
       "<Figure size 432x288 with 1 Axes>"
      ]
     },
     "metadata": {
      "needs_background": "light"
     },
     "output_type": "display_data"
    }
   ],
   "source": [
    "smallest_dim = np.min(np.array([img.shape[0], img.shape[1]]))\n",
    "\n",
    "plane = img[0:smallest_dim, 0:smallest_dim, :]\n",
    "res = cv2.resize(plane, dsize=(32, 32), interpolation=cv2.INTER_NEAREST)\n",
    "\n",
    "plt.imshow(res)\n",
    "\n",
    "# cv2.imwrite(\"airplane_small.jpg\", res)"
   ]
  },
  {
   "cell_type": "code",
   "execution_count": 54,
   "id": "bbc7b560",
   "metadata": {},
   "outputs": [
    {
     "name": "stdout",
     "output_type": "stream",
     "text": [
      "(1, 32, 32, 3)\n",
      "[3]\n"
     ]
    }
   ],
   "source": [
    "X_dtest = np.ascontiguousarray(res, dtype=np.float32)  # doesn't change shape, just turns every element to float instead of int\n",
    "X_dtest = X_dtest/256.\n",
    "\n",
    "X_dtest = np.array([X_dtest])\n",
    "print(X_dtest.shape)\n",
    "y_dtest = np.array([0])\n",
    "\n",
    "y_pred = model.predict(X_dtest)\n",
    "print(np.argmax(y_pred, axis=1))"
   ]
  }
 ],
 "metadata": {
  "kernelspec": {
   "display_name": "Python 3 (ipykernel)",
   "language": "python",
   "name": "python3"
  },
  "language_info": {
   "codemirror_mode": {
    "name": "ipython",
    "version": 3
   },
   "file_extension": ".py",
   "mimetype": "text/x-python",
   "name": "python",
   "nbconvert_exporter": "python",
   "pygments_lexer": "ipython3",
   "version": "3.8.13"
  }
 },
 "nbformat": 4,
 "nbformat_minor": 5
}
