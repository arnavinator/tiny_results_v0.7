{
 "cells": [
  {
   "cell_type": "code",
   "execution_count": 5,
   "metadata": {},
   "outputs": [],
   "source": [
    "import time\n",
    "import sys\n",
    "from subprocess import call\n",
    "import cv2\n",
    "import matplotlib.pyplot as plt\n",
    "from IPython.display import display, Image\n",
    "import ipywidgets as widgets\n",
    "import threading\n",
    "import numpy as np"
   ]
  },
  {
   "cell_type": "code",
   "execution_count": 6,
   "metadata": {},
   "outputs": [],
   "source": [
    "# import os\n",
    "# import tensorflow as tf\n",
    "# from tensorflow import keras\n",
    "# import qkeras\n",
    "# import numpy as np\n",
    "# import tensorflow as tf\n",
    "# from tensorflow.keras.datasets import cifar10\n",
    "# from tensorflow.keras.models import Model\n",
    "# from tensorflow.keras.layers import Input, Dense, Activation, Flatten, BatchNormalization\n",
    "# from tensorflow.keras.layers import Conv2D, AveragePooling2D, MaxPooling2D, Add\n",
    "# from tensorflow.keras.regularizers import l1_l2\n",
    "# from qkeras.qlayers import QDense, QActivation\n",
    "# from qkeras.qconvolutional import QConv2D\n",
    "# from qkeras.qconv2d_batchnorm import QConv2DBatchnorm\n",
    "# from qkeras.qpooling import QAveragePooling2D\n",
    "# from tensorflow.keras.models import load_model\n",
    "from qkeras.utils import _add_supported_quantized_objects\n",
    "# from sklearn.metrics import roc_auc_score\n",
    "# from sklearn.metrics import accuracy_score\n",
    "import keras"
   ]
  },
  {
   "cell_type": "code",
   "execution_count": 7,
   "metadata": {},
   "outputs": [],
   "source": [
    "# UPLOAD MODEL\n",
    "# path to model relative to downsample_tb.py\n",
    "model_file_path = \"../training/trained_model/model_best.h5\"\n",
    "co = {}\n",
    "_add_supported_quantized_objects(co)\n",
    "model = keras.models.load_model(model_file_path, custom_objects = co)\n",
    "\n",
    "# # print model summary\n",
    "# print(model.summary())"
   ]
  },
  {
   "cell_type": "code",
   "execution_count": 8,
   "metadata": {},
   "outputs": [],
   "source": [
    "# take any input img, do largest square center crop if not input not square,\n",
    "# and return a square img of dimsxdims\n",
    "def downsamp(img, dims):\n",
    "    smallest_dim = np.min(np.array([img.shape[0], img.shape[1]]))\n",
    "\n",
    "    # center crop relative to this image, so that we have square image\n",
    "    img_sq = img[int(img.shape[0]/2)-int(smallest_dim/2):int(img.shape[0]/2)+int(smallest_dim/2),\n",
    "                int(img.shape[1]/2)-int(smallest_dim/2):int(img.shape[1]/2)+int(smallest_dim/2),\n",
    "                :]\n",
    "\n",
    "    # interpolate to make image 32x32x3\n",
    "    res = cv2.resize(img_sq, dsize=(dims, dims), interpolation=cv2.INTER_NEAREST)\n",
    "    \n",
    "    return res"
   ]
  },
  {
   "cell_type": "code",
   "execution_count": null,
   "metadata": {},
   "outputs": [],
   "source": [
    "# def load_images_from_folder(folder):\n",
    "#     images = []\n",
    "#     for filename in os.listdir(folder):\n",
    "#         print(filename)   # use this to create y_dtest!!!!\n",
    "#         img = cv2.imread(os.path.join(folder,filename))\n",
    "#         if img is not None:\n",
    "#             images.append(img)\n",
    "#     return np.array(images)"
   ]
  },
  {
   "cell_type": "code",
   "execution_count": null,
   "metadata": {},
   "outputs": [],
   "source": [
    "# print(\"Icon Images Uploaded: \")\n",
    "# X_dtest_1 = load_images_from_folder(\"./icon_lib\")\n",
    "# icon_ims = []\n",
    "# for elem in X_dtest_1:\n",
    "#     icon_ims.append(downsamp(elem, 128))\n",
    "\n",
    "# icon_ims = np.array(icon_ims)\n",
    "# np.save(\"icon_ims.npy\", icon_ims)\n",
    "   "
   ]
  },
  {
   "cell_type": "code",
   "execution_count": null,
   "metadata": {},
   "outputs": [],
   "source": [
    "# icon_ims_1 = np.load('icon_ims.npy')\n",
    "# plt.imshow(icon_ims_1[6])"
   ]
  },
  {
   "cell_type": "code",
   "execution_count": null,
   "metadata": {},
   "outputs": [],
   "source": [
    "# # plane_img_original = cv2.imread('./airplane_vector.png')\n",
    "# # dims = 128\n",
    "# # plane_downsamp = downsamp(plane_img_original, dims)\n",
    "\n",
    "# icon_mask = []\n",
    "\n",
    "# for elem in icon_ims_1:\n",
    "#     plane_img = 255 - elem\n",
    "#     mask = np.ones((480,640, 3), np.uint8)\n",
    "#     mask[0:128, -128:] = plane_img[0:128,0:128,:]\n",
    "#     icon_mask.append(mask)\n",
    "\n",
    "# icon_mask = np.array(icon_mask)\n",
    "# np.save(\"icon_mask.npy\", icon_mask)"
   ]
  },
  {
   "cell_type": "code",
   "execution_count": 9,
   "metadata": {},
   "outputs": [
    {
     "data": {
      "text/plain": [
       "<matplotlib.image.AxesImage at 0x24fdd8c3d90>"
      ]
     },
     "execution_count": 9,
     "metadata": {},
     "output_type": "execute_result"
    },
    {
     "data": {
      "image/png": "[encoded data removed]",
      "text/plain": [
       "<Figure size 432x288 with 1 Axes>"
      ]
     },
     "metadata": {
      "needs_background": "light"
     },
     "output_type": "display_data"
    }
   ],
   "source": [
    "icon_mask = np.load(\"icon_mask.npy\")\n",
    "plt.imshow(icon_mask[2])"
   ]
  },
  {
   "cell_type": "code",
   "execution_count": 10,
   "metadata": {},
   "outputs": [
    {
     "data": {
      "application/vnd.jupyter.widget-view+json": {
       "model_id": "a17cfc3a7a3c4344a5a19873f9866564",
       "version_major": 2,
       "version_minor": 0
      },
      "text/plain": [
       "ToggleButton(value=False, button_style='danger', description='Stop', icon='square', tooltip='Description')"
      ]
     },
     "metadata": {},
     "output_type": "display_data"
    },
    {
     "data": {
      "text/plain": [
       "None"
      ]
     },
     "metadata": {},
     "output_type": "display_data"
    }
   ],
   "source": [
    "# RUN THE MODEL ITERATIVELY AND EVALUATE THE FRAME USING NEURAL NET\n",
    "# PRESS STOP TO PREVENT THE MODEL FROM CONTINUING\n",
    "# MODEL PREDICTION SHOWN AS AN ICON ON THE TOP LEFT OF THE SCREEN\n",
    "\n",
    "# Stop button\n",
    "# ================\n",
    "stopButton = widgets.ToggleButton(\n",
    "    value=False,\n",
    "    description='Stop',\n",
    "    disabled=False,\n",
    "    button_style='danger', # 'success', 'info', 'warning', 'danger' or ''\n",
    "    tooltip='Description',\n",
    "    icon='square' # (FontAwesome names without the `fa-` prefix)\n",
    ")\n",
    "\n",
    "\n",
    "# Display function\n",
    "# ================\n",
    "def view(button):\n",
    "    cap = cv2.VideoCapture(1)\n",
    "    display_handle=display(None, display_id=True)\n",
    "    i = 0\n",
    "    while True:\n",
    "        _, frame = cap.read()\n",
    "        frame = cv2.flip(frame, 1) # if your camera reverses your image\n",
    "        \n",
    "        '''\n",
    "        send the image to the accelerator here\n",
    "        '''\n",
    "        res = downsamp(frame, 32)\n",
    "        \n",
    "        # convert to input ready for neural net\n",
    "        X_dtest = np.ascontiguousarray(res, dtype=np.float32)  # doesn't change shape, just turns every element to float instead of int\n",
    "        X_dtest = X_dtest/256.\n",
    "\n",
    "        # have model predict the image\n",
    "        y_pred = model.predict(np.array([X_dtest]))\n",
    "        \n",
    "        # print \n",
    "\n",
    "        mask = icon_mask[np.argmax(y_pred[0])]\n",
    "        \n",
    "        # print(\"frame size is :\", frame.shape)\n",
    "        # print(\"mask size is : \", mask.size)\n",
    "        frame = cv2.subtract(frame, mask)\n",
    "        _, frame = cv2.imencode('.jpeg', frame)\n",
    "        display_handle.update(Image(data=frame.tobytes()))\n",
    "        if stopButton.value==True:\n",
    "            cap.release()\n",
    "            display_handle.update(None)\n",
    "\n",
    "            \n",
    "# Run\n",
    "# ================\n",
    "display(stopButton)\n",
    "thread = threading.Thread(target=view, args=(stopButton,))\n",
    "thread.start()"
   ]
  }
 ],
 "metadata": {
  "kernelspec": {
   "display_name": "Python 3 (ipykernel)",
   "language": "python",
   "name": "python3"
  },
  "language_info": {
   "codemirror_mode": {
    "name": "ipython",
    "version": 3
   },
   "file_extension": ".py",
   "mimetype": "text/x-python",
   "name": "python",
   "nbconvert_exporter": "python",
   "pygments_lexer": "ipython3",
   "version": "3.9.7"
  }
 },
 "nbformat": 4,
 "nbformat_minor": 4
}
